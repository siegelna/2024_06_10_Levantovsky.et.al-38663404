{
 "cells": [
  {
   "cell_type": "markdown",
   "metadata": {},
   "source": [
    "# [Multimodal single-cell analyses revealmechanisms of perianal fistula in diversepatients with Crohn’s disease](https://pubmed.ncbi.nlm.nih.gov/38663404/)\n",
    "GEO: [GSE260842](https://www.ncbi.nlm.nih.gov/geo/query/acc.cgi?acc=GSE260842)"
   ]
  },
  {
   "cell_type": "code",
   "execution_count": null,
   "metadata": {
    "vscode": {
     "languageId": "r"
    }
   },
   "outputs": [],
   "source": [
    "suppressPackageStartupMessages({\n",
    "    library(Seurat)\n",
    "    library(patchwork)\n",
    "    library(celldex)\n",
    "    library(SingleR)\n",
    "    library(ShinyCell)\n",
    "    library(harmony)\n",
    "    library(glmGamPoi)\n",
    "    library(stringr)\n",
    "    })"
   ]
  },
  {
   "cell_type": "code",
   "execution_count": 3,
   "metadata": {
    "vscode": {
     "languageId": "r"
    }
   },
   "outputs": [],
   "source": [
    "setwd(\"/data/nsiegel/projects/2024_06_10_Levantovsky.et.al-38663404\")"
   ]
  },
  {
   "cell_type": "code",
   "execution_count": 21,
   "metadata": {
    "vscode": {
     "languageId": "r"
    }
   },
   "outputs": [
    {
     "name": "stderr",
     "output_type": "stream",
     "text": [
      "Found 1 file(s)\n",
      "\n",
      "GSE260842_series_matrix.txt.gz\n",
      "\n",
      "Using locally cached version: /tmp/RtmpcDj4hw/GSE260842_series_matrix.txt.gz\n",
      "\n",
      "Using locally cached version of GPL24676 found here:\n",
      "/tmp/RtmpcDj4hw/GPL24676.soft.gz \n",
      "\n"
     ]
    },
    {
     "name": "stdout",
     "output_type": "stream",
     "text": [
      "Removed file paths:\n"
     ]
    }
   ],
   "source": [
    "source(\"/data/nsiegel/projects/scTools/R/process.geo.data.r\")\n",
    "GEOID <- \"GSE260842\"\n",
    "seurat_objects <- process.GEO.data(GEOID)"
   ]
  },
  {
   "cell_type": "code",
   "execution_count": 22,
   "metadata": {
    "vscode": {
     "languageId": "r"
    }
   },
   "outputs": [],
   "source": [
    "load(file = \"objects/GSE260842.rda\")"
   ]
  },
  {
   "cell_type": "code",
   "execution_count": 23,
   "metadata": {
    "vscode": {
     "languageId": "r"
    }
   },
   "outputs": [
    {
     "data": {
      "text/html": [
       "34"
      ],
      "text/latex": [
       "34"
      ],
      "text/markdown": [
       "34"
      ],
      "text/plain": [
       "[1] 34"
      ]
     },
     "metadata": {},
     "output_type": "display_data"
    },
    {
     "data": {
      "text/plain": [
       "$GSM8125209\n",
       "An object of class Seurat \n",
       "20735 features across 6104 samples within 1 assay \n",
       "Active assay: RNA (20735 features, 0 variable features)\n",
       " 1 layer present: counts\n",
       "\n",
       "$GSM8125210\n",
       "An object of class Seurat \n",
       "20191 features across 3595 samples within 1 assay \n",
       "Active assay: RNA (20191 features, 0 variable features)\n",
       " 1 layer present: counts\n",
       "\n",
       "$GSM8125211\n",
       "An object of class Seurat \n",
       "12988 features across 1089 samples within 1 assay \n",
       "Active assay: RNA (12988 features, 0 variable features)\n",
       " 1 layer present: counts\n",
       "\n",
       "$GSM8125212\n",
       "An object of class Seurat \n",
       "12796 features across 877 samples within 1 assay \n",
       "Active assay: RNA (12796 features, 0 variable features)\n",
       " 1 layer present: counts\n",
       "\n",
       "$GSM8125213\n",
       "An object of class Seurat \n",
       "17575 features across 3788 samples within 1 assay \n",
       "Active assay: RNA (17575 features, 0 variable features)\n",
       " 1 layer present: counts\n",
       "\n",
       "$GSM8125214\n",
       "An object of class Seurat \n",
       "17537 features across 3048 samples within 1 assay \n",
       "Active assay: RNA (17537 features, 0 variable features)\n",
       " 1 layer present: counts\n",
       "\n",
       "$GSM8125215\n",
       "An object of class Seurat \n",
       "20593 features across 5548 samples within 1 assay \n",
       "Active assay: RNA (20593 features, 0 variable features)\n",
       " 1 layer present: counts\n",
       "\n",
       "$GSM8125216\n",
       "An object of class Seurat \n",
       "20883 features across 5583 samples within 1 assay \n",
       "Active assay: RNA (20883 features, 0 variable features)\n",
       " 1 layer present: counts\n",
       "\n",
       "$GSM8125217\n",
       "An object of class Seurat \n",
       "19934 features across 4372 samples within 1 assay \n",
       "Active assay: RNA (19934 features, 0 variable features)\n",
       " 1 layer present: counts\n",
       "\n",
       "$GSM8125218\n",
       "An object of class Seurat \n",
       "19802 features across 3438 samples within 1 assay \n",
       "Active assay: RNA (19802 features, 0 variable features)\n",
       " 1 layer present: counts\n",
       "\n",
       "$GSM8125219\n",
       "An object of class Seurat \n",
       "19891 features across 3888 samples within 1 assay \n",
       "Active assay: RNA (19891 features, 0 variable features)\n",
       " 1 layer present: counts\n",
       "\n",
       "$GSM8125220\n",
       "An object of class Seurat \n",
       "19622 features across 7787 samples within 1 assay \n",
       "Active assay: RNA (19622 features, 0 variable features)\n",
       " 1 layer present: counts\n",
       "\n",
       "$GSM8125221\n",
       "An object of class Seurat \n",
       "20371 features across 5342 samples within 1 assay \n",
       "Active assay: RNA (20371 features, 0 variable features)\n",
       " 1 layer present: counts\n",
       "\n",
       "$GSM8125222\n",
       "An object of class Seurat \n",
       "20478 features across 3074 samples within 1 assay \n",
       "Active assay: RNA (20478 features, 0 variable features)\n",
       " 1 layer present: counts\n",
       "\n",
       "$GSM8125223\n",
       "An object of class Seurat \n",
       "18410 features across 6976 samples within 1 assay \n",
       "Active assay: RNA (18410 features, 0 variable features)\n",
       " 1 layer present: counts\n",
       "\n",
       "$GSM8125224\n",
       "An object of class Seurat \n",
       "17884 features across 4828 samples within 1 assay \n",
       "Active assay: RNA (17884 features, 0 variable features)\n",
       " 1 layer present: counts\n",
       "\n",
       "$GSM8125225\n",
       "An object of class Seurat \n",
       "22593 features across 6859 samples within 1 assay \n",
       "Active assay: RNA (22593 features, 0 variable features)\n",
       " 1 layer present: counts\n",
       "\n",
       "$GSM8125226\n",
       "An object of class Seurat \n",
       "21016 features across 6668 samples within 1 assay \n",
       "Active assay: RNA (21016 features, 0 variable features)\n",
       " 1 layer present: counts\n",
       "\n",
       "$GSM8125227\n",
       "An object of class Seurat \n",
       "19828 features across 5352 samples within 1 assay \n",
       "Active assay: RNA (19828 features, 0 variable features)\n",
       " 1 layer present: counts\n",
       "\n",
       "$GSM8125228\n",
       "An object of class Seurat \n",
       "20439 features across 4126 samples within 1 assay \n",
       "Active assay: RNA (20439 features, 0 variable features)\n",
       " 1 layer present: counts\n",
       "\n",
       "$GSM8125229\n",
       "An object of class Seurat \n",
       "18863 features across 6445 samples within 1 assay \n",
       "Active assay: RNA (18863 features, 0 variable features)\n",
       " 1 layer present: counts\n",
       "\n",
       "$GSM8125230\n",
       "An object of class Seurat \n",
       "19951 features across 8555 samples within 1 assay \n",
       "Active assay: RNA (19951 features, 0 variable features)\n",
       " 1 layer present: counts\n",
       "\n",
       "$GSM8125231\n",
       "An object of class Seurat \n",
       "19702 features across 4669 samples within 1 assay \n",
       "Active assay: RNA (19702 features, 0 variable features)\n",
       " 1 layer present: counts\n",
       "\n",
       "$GSM8125232\n",
       "An object of class Seurat \n",
       "19921 features across 4213 samples within 1 assay \n",
       "Active assay: RNA (19921 features, 0 variable features)\n",
       " 1 layer present: counts\n",
       "\n",
       "$GSM8125233\n",
       "An object of class Seurat \n",
       "22661 features across 9792 samples within 1 assay \n",
       "Active assay: RNA (22661 features, 0 variable features)\n",
       " 1 layer present: counts\n",
       "\n",
       "$GSM8125234\n",
       "An object of class Seurat \n",
       "22991 features across 9206 samples within 1 assay \n",
       "Active assay: RNA (22991 features, 0 variable features)\n",
       " 1 layer present: counts\n",
       "\n",
       "$GSM8125235\n",
       "An object of class Seurat \n",
       "18805 features across 4296 samples within 1 assay \n",
       "Active assay: RNA (18805 features, 0 variable features)\n",
       " 1 layer present: counts\n",
       "\n",
       "$GSM8125236\n",
       "An object of class Seurat \n",
       "18635 features across 4540 samples within 1 assay \n",
       "Active assay: RNA (18635 features, 0 variable features)\n",
       " 1 layer present: counts\n",
       "\n",
       "$GSM8125237\n",
       "An object of class Seurat \n",
       "19341 features across 6335 samples within 1 assay \n",
       "Active assay: RNA (19341 features, 0 variable features)\n",
       " 1 layer present: counts\n",
       "\n",
       "$GSM8125238\n",
       "An object of class Seurat \n",
       "19101 features across 5931 samples within 1 assay \n",
       "Active assay: RNA (19101 features, 0 variable features)\n",
       " 1 layer present: counts\n",
       "\n",
       "$GSM8125239\n",
       "An object of class Seurat \n",
       "20000 features across 6290 samples within 1 assay \n",
       "Active assay: RNA (20000 features, 0 variable features)\n",
       " 1 layer present: counts\n",
       "\n",
       "$GSM8125240\n",
       "An object of class Seurat \n",
       "19392 features across 4891 samples within 1 assay \n",
       "Active assay: RNA (19392 features, 0 variable features)\n",
       " 1 layer present: counts\n",
       "\n",
       "$GSM8125241\n",
       "An object of class Seurat \n",
       "21583 features across 8163 samples within 1 assay \n",
       "Active assay: RNA (21583 features, 0 variable features)\n",
       " 1 layer present: counts\n",
       "\n",
       "$GSM8125242\n",
       "An object of class Seurat \n",
       "22166 features across 8832 samples within 1 assay \n",
       "Active assay: RNA (22166 features, 0 variable features)\n",
       " 1 layer present: counts\n"
      ]
     },
     "metadata": {},
     "output_type": "display_data"
    }
   ],
   "source": [
    "length(seurat_objects)\n",
    "seurat_objects"
   ]
  },
  {
   "cell_type": "code",
   "execution_count": 24,
   "metadata": {
    "vscode": {
     "languageId": "r"
    }
   },
   "outputs": [
    {
     "name": "stderr",
     "output_type": "stream",
     "text": [
      "Warning message:\n",
      "“Some cell names are duplicated across objects provided. Renaming to enforce unique cell names.”\n"
     ]
    }
   ],
   "source": [
    "obj <- merge(x = seurat_objects[[1]], \n",
    "                    y = c(seurat_objects[[2]], seurat_objects[[3]], seurat_objects[[4]], \n",
    "                          seurat_objects[[5]], seurat_objects[[6]], seurat_objects[[7]], \n",
    "                          seurat_objects[[8]], seurat_objects[[9]], seurat_objects[[10]], \n",
    "                          seurat_objects[[11]], seurat_objects[[12]], seurat_objects[[13]], \n",
    "                          seurat_objects[[14]], seurat_objects[[15]], seurat_objects[[16]], \n",
    "                          seurat_objects[[17]], seurat_objects[[18]], seurat_objects[[19]], \n",
    "                          seurat_objects[[20]], seurat_objects[[21]], seurat_objects[[22]], \n",
    "                          seurat_objects[[23]], seurat_objects[[24]], seurat_objects[[25]], \n",
    "                          seurat_objects[[26]], seurat_objects[[27]], seurat_objects[[28]], \n",
    "                          seurat_objects[[29]], seurat_objects[[30]], seurat_objects[[31]], \n",
    "                          seurat_objects[[32]], seurat_objects[[33]], seurat_objects[[34]]))\n",
    "\n",
    "\n",
    "# Print the merged object\n",
    "save(obj, file = file.path(\"objects\", \"00.rda\"))"
   ]
  },
  {
   "cell_type": "code",
   "execution_count": 25,
   "metadata": {
    "vscode": {
     "languageId": "r"
    }
   },
   "outputs": [
    {
     "data": {
      "text/plain": [
       "An object of class Seurat \n",
       "28190 features across 118166 samples within 1 assay \n",
       "Active assay: RNA (28190 features, 0 variable features)\n",
       " 1 layer present: counts"
      ]
     },
     "metadata": {},
     "output_type": "display_data"
    }
   ],
   "source": [
    "# load(file = file.path(\"objects\", \"00.rda\"))\n",
    "obj <- JoinLayers(obj)\n",
    "obj[[\"percent.mt\"]] <- PercentageFeatureSet(object = obj, pattern = \"^MT-\")\n",
    "obj <- subset(obj, subset = nFeature_RNA > 350 & nFeature_RNA < 5000 & percent.mt < 10)\n",
    "obj\n",
    "save(obj, file = file.path(\"objects\", \"01.rda\"))"
   ]
  },
  {
   "cell_type": "code",
   "execution_count": 26,
   "metadata": {
    "vscode": {
     "languageId": "r"
    }
   },
   "outputs": [
    {
     "name": "stderr",
     "output_type": "stream",
     "text": [
      "Running SCTransform on assay: RNA\n",
      "\n",
      "Running SCTransform on layer: counts\n",
      "\n",
      "vst.flavor='v2' set. Using model with fixed slope and excluding poisson genes.\n",
      "\n",
      "Variance stabilizing transformation of count matrix of size 25818 by 118166\n",
      "\n",
      "Model formula is y ~ log_umi\n",
      "\n",
      "Get Negative Binomial regression parameters per gene\n",
      "\n",
      "Using 2000 genes, 3000 cells\n",
      "\n",
      "Found 183 outliers - those will be ignored in fitting/regularization step\n",
      "\n",
      "\n",
      "Skip calculation of full residual matrix\n",
      "\n",
      "Will not return corrected UMI because residual type is not set to 'pearson'\n",
      "\n",
      "Calculating gene attributes\n",
      "\n",
      "Wall clock passed: Time difference of 17.94223 secs\n",
      "\n",
      "Setting min_variance based on median UMI:  0.04\n",
      "\n",
      "Calculating variance for residuals of type pearson for 25818 genes\n",
      "\n",
      "Determine variable features\n",
      "\n",
      "Setting min_variance based on median UMI:  0.16\n",
      "\n",
      "Calculating residuals of type pearson for 2000 genes\n",
      "\n"
     ]
    },
    {
     "name": "stdout",
     "output_type": "stream",
     "text": [
      "  |======================================================================| 100%\n"
     ]
    },
    {
     "name": "stderr",
     "output_type": "stream",
     "text": [
      "Computing corrected UMI count matrix\n",
      "\n",
      "Centering data matrix\n",
      "\n",
      "Getting residuals for block 1(of 40) for counts dataset\n",
      "\n",
      "Getting residuals for block 2(of 40) for counts dataset\n",
      "\n",
      "Getting residuals for block 3(of 40) for counts dataset\n",
      "\n",
      "Getting residuals for block 4(of 40) for counts dataset\n",
      "\n",
      "Getting residuals for block 5(of 40) for counts dataset\n",
      "\n",
      "Getting residuals for block 6(of 40) for counts dataset\n",
      "\n",
      "Getting residuals for block 7(of 40) for counts dataset\n",
      "\n",
      "Getting residuals for block 8(of 40) for counts dataset\n",
      "\n",
      "Getting residuals for block 9(of 40) for counts dataset\n",
      "\n",
      "Getting residuals for block 10(of 40) for counts dataset\n",
      "\n",
      "Getting residuals for block 11(of 40) for counts dataset\n",
      "\n",
      "Getting residuals for block 12(of 40) for counts dataset\n",
      "\n",
      "Getting residuals for block 13(of 40) for counts dataset\n",
      "\n",
      "Getting residuals for block 14(of 40) for counts dataset\n",
      "\n",
      "Getting residuals for block 15(of 40) for counts dataset\n",
      "\n",
      "Getting residuals for block 16(of 40) for counts dataset\n",
      "\n",
      "Getting residuals for block 17(of 40) for counts dataset\n",
      "\n",
      "Getting residuals for block 18(of 40) for counts dataset\n",
      "\n",
      "Getting residuals for block 19(of 40) for counts dataset\n",
      "\n",
      "Getting residuals for block 20(of 40) for counts dataset\n",
      "\n",
      "Getting residuals for block 21(of 40) for counts dataset\n",
      "\n",
      "Getting residuals for block 22(of 40) for counts dataset\n",
      "\n",
      "Getting residuals for block 23(of 40) for counts dataset\n",
      "\n",
      "Getting residuals for block 24(of 40) for counts dataset\n",
      "\n",
      "Getting residuals for block 25(of 40) for counts dataset\n",
      "\n",
      "Getting residuals for block 26(of 40) for counts dataset\n",
      "\n",
      "Getting residuals for block 27(of 40) for counts dataset\n",
      "\n",
      "Getting residuals for block 28(of 40) for counts dataset\n",
      "\n",
      "Getting residuals for block 29(of 40) for counts dataset\n",
      "\n",
      "Getting residuals for block 30(of 40) for counts dataset\n",
      "\n",
      "Getting residuals for block 31(of 40) for counts dataset\n",
      "\n",
      "Getting residuals for block 32(of 40) for counts dataset\n",
      "\n",
      "Getting residuals for block 33(of 40) for counts dataset\n",
      "\n",
      "Getting residuals for block 34(of 40) for counts dataset\n",
      "\n",
      "Getting residuals for block 35(of 40) for counts dataset\n",
      "\n",
      "Getting residuals for block 36(of 40) for counts dataset\n",
      "\n",
      "Getting residuals for block 37(of 40) for counts dataset\n",
      "\n",
      "Getting residuals for block 38(of 40) for counts dataset\n",
      "\n",
      "Getting residuals for block 39(of 40) for counts dataset\n",
      "\n",
      "Getting residuals for block 40(of 40) for counts dataset\n",
      "\n",
      "Centering data matrix\n",
      "\n",
      "Finished calculating residuals for counts\n",
      "\n",
      "Set default assay to SCT\n",
      "\n"
     ]
    }
   ],
   "source": [
    "obj <- SCTransform(obj, ncells = 3000,  variable.features.n = 2000, vst.flavor=\"v2\", method = 'glmGamPoi', conserve.memory = TRUE)\n",
    "save(obj, file=file.path(\"objects\", \"02.rda\"))"
   ]
  },
  {
   "cell_type": "code",
   "execution_count": 27,
   "metadata": {
    "vscode": {
     "languageId": "r"
    }
   },
   "outputs": [
    {
     "name": "stderr",
     "output_type": "stream",
     "text": [
      "PC_ 1 \n",
      "Positive:  IL11RA.1, TNFRSF25.1, CD152, CXCR4.1, HLA-DR, NOTCH3.1, CD38.1, CD25, PDPN.1, PTGER4.1 \n",
      "\t   CD130, CD197, CD14.1, IL23RA, COL3A1, CD279, PTGER2.1, DCN, CD185, MRGPRX2.1 \n",
      "\t   LUM, COL1A2, COL1A1, CXCL14, ADAMDEC1, CD3, CD61, MT2A, CD140a, POSTN \n",
      "Negative:  IGKC, JCHAIN, IGHA1, IGHG1, IGLC2, IGHA2, IGHG3, IGHG2, IGLC3, IGHG4 \n",
      "\t   IGLC1, IGKV3-20, IGKV1-5, IGKV4-1, MZB1, IGHM, IGKV3-11, IGHV3-7, IGHV3-23, SSR4 \n",
      "\t   IGHV3-15, IGHV3-30, IGKV1-39, IGHGP, IGKV3-15, DERL3, IGKV1-9, IGLV2-14, IGHV3-33, IGHV3-74 \n",
      "PC_ 2 \n",
      "Positive:  LYZ, HLA-DRA, MT2A, CXCL8, C1QB, DCN, IL1B, SOD2, COL3A1, CCL3 \n",
      "\t   CCL4, C1QA, LUM, HLA-DRB1, FCER1G, AIF1, ADAMDEC1, COL1A1, COL1A2, CXCL9 \n",
      "\t   HLA-DPA1, HLA-DPB1, GLUL, S100A8, CCL3L1, S100A9, CXCL2, IER3, IFITM3, IFI30 \n",
      "Negative:  IGKC, IL11RA.1, CD38.1, TNFRSF25.1, CD152, IGHA1, CXCR4.1, HLA-DR, NOTCH3.1, CD25 \n",
      "\t   PTGER4.1, CD197, CD130, IL23RA, CD14.1, CD279, PDPN.1, JCHAIN, PTGER2.1, MRGPRX2.1 \n",
      "\t   CD185, CD3, CD140a, CD61, IGHA2, IGHG1, CD4.1, MTRNR2L8, IGLC2, CD8 \n",
      "PC_ 3 \n",
      "Positive:  LYZ, HLA-DRA, C1QB, IL1B, CCL4, C1QA, CCL3, FCER1G, AIF1, CXCL8 \n",
      "\t   HLA-DRB1, HLA-DPA1, HLA-DPB1, CXCL9, S100A8, S100A9, CCL4L2, CCL3L1, IFI30, HLA-DQA1 \n",
      "\t   TYROBP, C1QC, CD38.1, IL11RA.1, EREG, TNFRSF25.1, CCL18, CD74, CD152, CD163 \n",
      "Negative:  COL3A1, DCN, IGKC, LUM, COL1A2, COL1A1, ADAMDEC1, SPARC, CXCL14, COL6A3 \n",
      "\t   CALD1, FN1, C1S, COL6A1, C1R, MMP2, CXCL13, COL5A2, NNMT, BGN \n",
      "\t   CLU, TAGLN, MT2A, CCL2, POSTN, A2M, CTSK, IFITM3, MT1E, FBLN1 \n",
      "PC_ 4 \n",
      "Positive:  IGKC, LYZ, C1QB, CXCL8, IGHA1, IL1B, MT2A, JCHAIN, SOD2, CCL3 \n",
      "\t   C1QA, COL3A1, FCER1G, DCN, AIF1, HLA-DRA, CXCL9, COL1A1, S100A8, LUM \n",
      "\t   COL1A2, GLUL, S100A9, CCL3L1, CXCL2, CXCL10, CTSB, IER3, IFI30, CCL18 \n",
      "Negative:  IGLC2, IGLC3, CCL5, IL7R, CXCR4, KLRB1, CD3D, TRBC1, TRBC2, CD52 \n",
      "\t   GNLY, CD2, RPS27, GZMK, CD69, IGLC1, TRAC, IL32, CREM, GZMA \n",
      "\t   CD3G, CD3E, RPS12, MS4A1, BTG1, IGLV2-14, RPL41, IFNG, RPS18, TMSB4X \n",
      "PC_ 5 \n",
      "Positive:  IGKC, SPARCL1, CCL5, IL7R, PLVAP, ADAMDEC1, CXCR4, A2M, GNLY, CXCL14 \n",
      "\t   KLRB1, FABP5, IGFBP7, GZMK, CD3D, TRBC1, TRBC2, CD2, CD52, TMSB4X \n",
      "\t   RPS27, GZMA, ANXA1, IL32, TM4SF1, NKG7, VWF, CREM, TXNIP, IFNG \n",
      "Negative:  IGLC2, IGLC3, IGHA1, JCHAIN, IGHG1, MT2A, IGLV2-14, IGHA2, IGLC1, COL3A1 \n",
      "\t   COL1A1, DCN, IGHG3, CXCL13, LYZ, CHI3L1, SOD2, MT1E, LUM, COL1A2 \n",
      "\t   IGLV2-8, CXCL8, CLU, CA12, IGLV1-51, IGHG2, COL6A3, GAS1, IGLV1-44, INHBA \n",
      "\n",
      "Warning message:\n",
      "“The default method for RunUMAP has changed from calling Python UMAP via reticulate to the R-native UWOT using the cosine metric\n",
      "To use Python UMAP via reticulate, set umap.method to 'umap-learn' and metric to 'correlation'\n",
      "This message will be shown once per session”\n",
      "17:44:29 UMAP embedding parameters a = 0.9922 b = 1.112\n",
      "\n",
      "17:44:29 Read 118166 rows and found 20 numeric columns\n",
      "\n",
      "17:44:29 Using Annoy for neighbor search, n_neighbors = 30\n",
      "\n",
      "17:44:29 Building Annoy index with metric = cosine, n_trees = 50\n",
      "\n",
      "0%   10   20   30   40   50   60   70   80   90   100%\n",
      "\n",
      "[----|----|----|----|----|----|----|----|----|----|\n",
      "\n",
      "*\n",
      "*\n",
      "*\n",
      "*\n",
      "*\n",
      "*\n",
      "*\n",
      "*\n",
      "*\n",
      "*\n",
      "*\n",
      "*\n",
      "*\n",
      "*\n",
      "*\n",
      "*\n",
      "*\n",
      "*\n",
      "*\n",
      "*\n",
      "*\n",
      "*\n",
      "*\n",
      "*\n",
      "*\n",
      "*\n",
      "*\n",
      "*\n",
      "*\n",
      "*\n",
      "*\n",
      "*\n",
      "*\n",
      "*\n",
      "*\n",
      "*\n",
      "*\n",
      "*\n",
      "*\n",
      "*\n",
      "*\n",
      "*\n",
      "*\n",
      "*\n",
      "*\n",
      "*\n",
      "*\n",
      "*\n",
      "*\n",
      "*\n",
      "|\n",
      "\n",
      "17:44:40 Writing NN index file to temp file /tmp/RtmpcDj4hw/filef8b31538f2f0e\n",
      "\n",
      "17:44:40 Searching Annoy index using 1 thread, search_k = 3000\n",
      "\n",
      "17:45:26 Annoy recall = 100%\n",
      "\n",
      "17:45:27 Commencing smooth kNN distance calibration using 1 thread\n",
      " with target n_neighbors = 30\n",
      "\n",
      "17:45:33 Initializing from normalized Laplacian + noise (using RSpectra)\n",
      "\n",
      "17:45:54 Commencing optimization for 200 epochs, with 5005604 positive edges\n",
      "\n",
      "17:46:39 Optimization finished\n",
      "\n",
      "Computing nearest neighbor graph\n",
      "\n",
      "Computing SNN\n",
      "\n"
     ]
    },
    {
     "name": "stdout",
     "output_type": "stream",
     "text": [
      "Modularity Optimizer version 1.3.0 by Ludo Waltman and Nees Jan van Eck\n",
      "\n",
      "Number of nodes: 118166\n",
      "Number of edges: 3874885\n",
      "\n",
      "Running Louvain algorithm...\n",
      "Maximum modularity in 10 random starts: 0.9631\n",
      "Number of communities: 54\n",
      "Elapsed time: 40 seconds\n"
     ]
    },
    {
     "data": {
      "text/plain": [
       "An object of class Seurat \n",
       "54008 features across 118166 samples within 2 assays \n",
       "Active assay: SCT (25818 features, 2000 variable features)\n",
       " 3 layers present: counts, data, scale.data\n",
       " 1 other assay present: RNA\n",
       " 2 dimensional reductions calculated: pca, umap"
      ]
     },
     "metadata": {},
     "output_type": "display_data"
    }
   ],
   "source": [
    "# load(file=file.path(\"objects\", \"02.rda\"))\n",
    "obj <- RunPCA(obj, npcs = 30, verbose = TRUE)\n",
    "obj <- RunUMAP(obj, reduction = \"pca\", dims = 1:20)\n",
    "obj <- FindNeighbors(obj, reduction = \"pca\", dims = 1:20)\n",
    "obj <- FindClusters(obj, resolution = 0.5)\n",
    "obj\n",
    "save(obj, file=file.path(\"objects\", \"03.rda\"))"
   ]
  },
  {
   "cell_type": "code",
   "execution_count": 28,
   "metadata": {
    "vscode": {
     "languageId": "r"
    }
   },
   "outputs": [
    {
     "data": {
      "text/html": [
       "<style>\n",
       ".list-inline {list-style: none; margin:0; padding: 0}\n",
       ".list-inline>li {display: inline-block}\n",
       ".list-inline>li:not(:last-child)::after {content: \"\\00b7\"; padding: 0 .5ex}\n",
       "</style>\n",
       "<ol class=list-inline><li>'orig.ident'</li><li>'nCount_RNA'</li><li>'nFeature_RNA'</li><li>'title'</li><li>'geo_accession'</li><li>'status'</li><li>'submission_date'</li><li>'last_update_date'</li><li>'type'</li><li>'channel_count'</li><li>'source_name_ch1'</li><li>'organism_ch1'</li><li>'characteristics_ch1'</li><li>'characteristics_ch1.1'</li><li>'molecule_ch1'</li><li>'extract_protocol_ch1'</li><li>'extract_protocol_ch1.1'</li><li>'taxid_ch1'</li><li>'description'</li><li>'data_processing'</li><li>'data_processing.1'</li><li>'data_processing.2'</li><li>'data_processing.3'</li><li>'data_processing.4'</li><li>'platform_id'</li><li>'contact_name'</li><li>'contact_email'</li><li>'contact_laboratory'</li><li>'contact_department'</li><li>'contact_institute'</li><li>'contact_address'</li><li>'contact_city'</li><li>'contact_state'</li><li>'contact_zip.postal_code'</li><li>'contact_country'</li><li>'data_row_count'</li><li>'instrument_model'</li><li>'library_selection'</li><li>'library_source'</li><li>'library_strategy'</li><li>'relation'</li><li>'relation.1'</li><li>'supplementary_file_1'</li><li>'procedure.ch1'</li><li>'tissue.ch1'</li><li>'percent.mt'</li><li>'nCount_SCT'</li><li>'nFeature_SCT'</li><li>'SCT_snn_res.0.5'</li><li>'seurat_clusters'</li></ol>\n"
      ],
      "text/latex": [
       "\\begin{enumerate*}\n",
       "\\item 'orig.ident'\n",
       "\\item 'nCount\\_RNA'\n",
       "\\item 'nFeature\\_RNA'\n",
       "\\item 'title'\n",
       "\\item 'geo\\_accession'\n",
       "\\item 'status'\n",
       "\\item 'submission\\_date'\n",
       "\\item 'last\\_update\\_date'\n",
       "\\item 'type'\n",
       "\\item 'channel\\_count'\n",
       "\\item 'source\\_name\\_ch1'\n",
       "\\item 'organism\\_ch1'\n",
       "\\item 'characteristics\\_ch1'\n",
       "\\item 'characteristics\\_ch1.1'\n",
       "\\item 'molecule\\_ch1'\n",
       "\\item 'extract\\_protocol\\_ch1'\n",
       "\\item 'extract\\_protocol\\_ch1.1'\n",
       "\\item 'taxid\\_ch1'\n",
       "\\item 'description'\n",
       "\\item 'data\\_processing'\n",
       "\\item 'data\\_processing.1'\n",
       "\\item 'data\\_processing.2'\n",
       "\\item 'data\\_processing.3'\n",
       "\\item 'data\\_processing.4'\n",
       "\\item 'platform\\_id'\n",
       "\\item 'contact\\_name'\n",
       "\\item 'contact\\_email'\n",
       "\\item 'contact\\_laboratory'\n",
       "\\item 'contact\\_department'\n",
       "\\item 'contact\\_institute'\n",
       "\\item 'contact\\_address'\n",
       "\\item 'contact\\_city'\n",
       "\\item 'contact\\_state'\n",
       "\\item 'contact\\_zip.postal\\_code'\n",
       "\\item 'contact\\_country'\n",
       "\\item 'data\\_row\\_count'\n",
       "\\item 'instrument\\_model'\n",
       "\\item 'library\\_selection'\n",
       "\\item 'library\\_source'\n",
       "\\item 'library\\_strategy'\n",
       "\\item 'relation'\n",
       "\\item 'relation.1'\n",
       "\\item 'supplementary\\_file\\_1'\n",
       "\\item 'procedure.ch1'\n",
       "\\item 'tissue.ch1'\n",
       "\\item 'percent.mt'\n",
       "\\item 'nCount\\_SCT'\n",
       "\\item 'nFeature\\_SCT'\n",
       "\\item 'SCT\\_snn\\_res.0.5'\n",
       "\\item 'seurat\\_clusters'\n",
       "\\end{enumerate*}\n"
      ],
      "text/markdown": [
       "1. 'orig.ident'\n",
       "2. 'nCount_RNA'\n",
       "3. 'nFeature_RNA'\n",
       "4. 'title'\n",
       "5. 'geo_accession'\n",
       "6. 'status'\n",
       "7. 'submission_date'\n",
       "8. 'last_update_date'\n",
       "9. 'type'\n",
       "10. 'channel_count'\n",
       "11. 'source_name_ch1'\n",
       "12. 'organism_ch1'\n",
       "13. 'characteristics_ch1'\n",
       "14. 'characteristics_ch1.1'\n",
       "15. 'molecule_ch1'\n",
       "16. 'extract_protocol_ch1'\n",
       "17. 'extract_protocol_ch1.1'\n",
       "18. 'taxid_ch1'\n",
       "19. 'description'\n",
       "20. 'data_processing'\n",
       "21. 'data_processing.1'\n",
       "22. 'data_processing.2'\n",
       "23. 'data_processing.3'\n",
       "24. 'data_processing.4'\n",
       "25. 'platform_id'\n",
       "26. 'contact_name'\n",
       "27. 'contact_email'\n",
       "28. 'contact_laboratory'\n",
       "29. 'contact_department'\n",
       "30. 'contact_institute'\n",
       "31. 'contact_address'\n",
       "32. 'contact_city'\n",
       "33. 'contact_state'\n",
       "34. 'contact_zip.postal_code'\n",
       "35. 'contact_country'\n",
       "36. 'data_row_count'\n",
       "37. 'instrument_model'\n",
       "38. 'library_selection'\n",
       "39. 'library_source'\n",
       "40. 'library_strategy'\n",
       "41. 'relation'\n",
       "42. 'relation.1'\n",
       "43. 'supplementary_file_1'\n",
       "44. 'procedure.ch1'\n",
       "45. 'tissue.ch1'\n",
       "46. 'percent.mt'\n",
       "47. 'nCount_SCT'\n",
       "48. 'nFeature_SCT'\n",
       "49. 'SCT_snn_res.0.5'\n",
       "50. 'seurat_clusters'\n",
       "\n",
       "\n"
      ],
      "text/plain": [
       " [1] \"orig.ident\"              \"nCount_RNA\"             \n",
       " [3] \"nFeature_RNA\"            \"title\"                  \n",
       " [5] \"geo_accession\"           \"status\"                 \n",
       " [7] \"submission_date\"         \"last_update_date\"       \n",
       " [9] \"type\"                    \"channel_count\"          \n",
       "[11] \"source_name_ch1\"         \"organism_ch1\"           \n",
       "[13] \"characteristics_ch1\"     \"characteristics_ch1.1\"  \n",
       "[15] \"molecule_ch1\"            \"extract_protocol_ch1\"   \n",
       "[17] \"extract_protocol_ch1.1\"  \"taxid_ch1\"              \n",
       "[19] \"description\"             \"data_processing\"        \n",
       "[21] \"data_processing.1\"       \"data_processing.2\"      \n",
       "[23] \"data_processing.3\"       \"data_processing.4\"      \n",
       "[25] \"platform_id\"             \"contact_name\"           \n",
       "[27] \"contact_email\"           \"contact_laboratory\"     \n",
       "[29] \"contact_department\"      \"contact_institute\"      \n",
       "[31] \"contact_address\"         \"contact_city\"           \n",
       "[33] \"contact_state\"           \"contact_zip.postal_code\"\n",
       "[35] \"contact_country\"         \"data_row_count\"         \n",
       "[37] \"instrument_model\"        \"library_selection\"      \n",
       "[39] \"library_source\"          \"library_strategy\"       \n",
       "[41] \"relation\"                \"relation.1\"             \n",
       "[43] \"supplementary_file_1\"    \"procedure.ch1\"          \n",
       "[45] \"tissue.ch1\"              \"percent.mt\"             \n",
       "[47] \"nCount_SCT\"              \"nFeature_SCT\"           \n",
       "[49] \"SCT_snn_res.0.5\"         \"seurat_clusters\"        "
      ]
     },
     "metadata": {},
     "output_type": "display_data"
    }
   ],
   "source": [
    "colnames(obj@meta.data)"
   ]
  },
  {
   "cell_type": "code",
   "execution_count": 29,
   "metadata": {
    "vscode": {
     "languageId": "r"
    }
   },
   "outputs": [
    {
     "name": "stderr",
     "output_type": "stream",
     "text": [
      "Rasterizing points since number of points exceeds 100,000.\n",
      "To disable this behavior set `raster=FALSE`\n",
      "\n"
     ]
    },
    {
     "data": {
      "image/png": "[encoded data removed]",
      "text/plain": [
       "plot without title"
      ]
     },
     "metadata": {
      "image/png": {
       "height": 420,
       "width": 420
      }
     },
     "output_type": "display_data"
    }
   ],
   "source": [
    "DimPlot(obj, group.by = \"characteristics_ch1\")"
   ]
  },
  {
   "cell_type": "code",
   "execution_count": 30,
   "metadata": {
    "vscode": {
     "languageId": "r"
    }
   },
   "outputs": [
    {
     "name": "stderr",
     "output_type": "stream",
     "text": [
      "see ?celldex and browseVignettes('celldex') for documentation\n",
      "\n",
      "loading from cache\n",
      "\n",
      "see ?celldex and browseVignettes('celldex') for documentation\n",
      "\n",
      "loading from cache\n",
      "\n",
      "see ?celldex and browseVignettes('celldex') for documentation\n",
      "\n",
      "loading from cache\n",
      "\n",
      "see ?celldex and browseVignettes('celldex') for documentation\n",
      "\n",
      "loading from cache\n",
      "\n"
     ]
    }
   ],
   "source": [
    "blueprint.ref <- celldex::BlueprintEncodeData()\n",
    "monaco.ref <- celldex::MonacoImmuneData()"
   ]
  },
  {
   "cell_type": "code",
   "execution_count": 32,
   "metadata": {
    "vscode": {
     "languageId": "r"
    }
   },
   "outputs": [],
   "source": [
    "sce <- LayerData(obj)\n",
    "blueprint.main <- SingleR(test = sce, assay.type.test = 1, ref = blueprint.ref, labels = blueprint.ref$label.main)\n",
    "obj@meta.data$blueprint.main <- blueprint.main$pruned.labels\n",
    "save(obj, file=file.path(\"objects\", \"04.rda\"))"
   ]
  },
  {
   "cell_type": "code",
   "execution_count": 36,
   "metadata": {
    "vscode": {
     "languageId": "r"
    }
   },
   "outputs": [
    {
     "data": {
      "text/plain": [
       "\n",
       "       Adipocytes        Astrocytes           B-cells      CD4+ T-cells \n",
       "             1794                34             57930             15735 \n",
       "     CD8+ T-cells      Chondrocytes                DC Endothelial cells \n",
       "            16151               442               629              1861 \n",
       "      Eosinophils  Epithelial cells      Erythrocytes       Fibroblasts \n",
       "                2               964               135             10654 \n",
       "              HSC     Keratinocytes       Macrophages       Melanocytes \n",
       "             3053                72              1832                24 \n",
       "  Mesangial cells         Monocytes          Myocytes           Neurons \n",
       "                6              4333                77                 3 \n",
       "      Neutrophils          NK cells         Pericytes   Skeletal muscle \n",
       "               18              1946                71                12 \n",
       "    Smooth muscle \n",
       "               51 "
      ]
     },
     "metadata": {},
     "output_type": "display_data"
    }
   ],
   "source": [
    "table(obj@meta.data$blueprint.main)"
   ]
  },
  {
   "cell_type": "code",
   "execution_count": 46,
   "metadata": {
    "vscode": {
     "languageId": "r"
    }
   },
   "outputs": [],
   "source": [
    "obj <- SetIdent(obj, value = \"blueprint.main\")\n",
    "remove_low_count_cells <- function(seurat_obj, metadata_column, threshold = 20) {\n",
    "\n",
    "  obj <- SetIdent(obj, value = metadata_column)\n",
    "\n",
    "  total_counts <- table(seurat_obj@meta.data[[metadata_column]])\n",
    "\n",
    "  low_count_cells <- names(total_counts[total_counts < threshold])\n",
    "\n",
    "  seurat_obj <- subset(seurat_obj, idents = low_count_cells, invert = TRUE)\n",
    "\n",
    "  return(seurat_obj)\n",
    "}\n",
    "obj <- remove_low_count_cells(seurat_obj = obj, metadata_column = \"blueprint.main\", threshold = 20)"
   ]
  },
  {
   "cell_type": "code",
   "execution_count": 47,
   "metadata": {
    "vscode": {
     "languageId": "r"
    }
   },
   "outputs": [
    {
     "data": {
      "text/plain": [
       "\n",
       "       Adipocytes        Astrocytes           B-cells      CD4+ T-cells \n",
       "             1794                34             57930             15735 \n",
       "     CD8+ T-cells      Chondrocytes                DC Endothelial cells \n",
       "            16151               442               629              1861 \n",
       " Epithelial cells      Erythrocytes       Fibroblasts               HSC \n",
       "              964               135             10654              3053 \n",
       "    Keratinocytes       Macrophages       Melanocytes         Monocytes \n",
       "               72              1832                24              4333 \n",
       "         Myocytes          NK cells         Pericytes     Smooth muscle \n",
       "               77              1946                71                51 "
      ]
     },
     "metadata": {},
     "output_type": "display_data"
    }
   ],
   "source": [
    "table(obj@meta.data$blueprint.main)"
   ]
  },
  {
   "cell_type": "code",
   "execution_count": 48,
   "metadata": {
    "vscode": {
     "languageId": "r"
    }
   },
   "outputs": [
    {
     "data": {
      "text/plain": [
       "\n",
       "     B-cells CD4+ T-cells CD8+ T-cells           DC  Macrophages    Monocytes \n",
       "       57930        15735        16151          629         1832         4333 \n",
       "    NK cells \n",
       "        1946 "
      ]
     },
     "metadata": {},
     "output_type": "display_data"
    }
   ],
   "source": [
    "obj <- SetIdent(obj, value = \"blueprint.main\")\n",
    "obj <- subset(obj, idents = c(\"CD8+ T-cells\", \"B-cells\", \"CD4+ T-cells\", \"DC\", \"NK cells\", \"Macrophages\", \"Monocytes\"), invert = FALSE)\n",
    "table(obj@meta.data$blueprint.main)"
   ]
  },
  {
   "cell_type": "code",
   "execution_count": 57,
   "metadata": {
    "vscode": {
     "languageId": "r"
    }
   },
   "outputs": [
    {
     "name": "stdout",
     "output_type": "stream",
     "text": [
      "                        orig.ident nCount_RNA nFeature_RNA\n",
      "AAACCCACAAGGCCTC-1_1 SeuratProject      20865         1719\n",
      "AAACCCACAGGACTAG-1_1 SeuratProject      38853         1908\n",
      "AAACGAACACATATGC-1_1 SeuratProject      19619         1683\n",
      "AAACGAATCATAGCAC-1_1 SeuratProject      22175         1721\n",
      "AAACGAATCGCGGACT-1_1 SeuratProject      24894         1480\n",
      "AAACGCTTCGGCTGAC-1_1 SeuratProject      15903         1137\n",
      "                                     title geo_accession                status\n",
      "AAACCCACAAGGCCTC-1_1 Perianal1_Sig_cytoRNA    GSM8125209 Public on May 16 2024\n",
      "AAACCCACAGGACTAG-1_1 Perianal1_Sig_cytoRNA    GSM8125209 Public on May 16 2024\n",
      "AAACGAACACATATGC-1_1 Perianal1_Sig_cytoRNA    GSM8125209 Public on May 16 2024\n",
      "AAACGAATCATAGCAC-1_1 Perianal1_Sig_cytoRNA    GSM8125209 Public on May 16 2024\n",
      "AAACGAATCGCGGACT-1_1 Perianal1_Sig_cytoRNA    GSM8125209 Public on May 16 2024\n",
      "AAACGCTTCGGCTGAC-1_1 Perianal1_Sig_cytoRNA    GSM8125209 Public on May 16 2024\n",
      "                     submission_date last_update_date type channel_count\n",
      "AAACCCACAAGGCCTC-1_1     Mar 04 2024      May 16 2024  SRA             1\n",
      "AAACCCACAGGACTAG-1_1     Mar 04 2024      May 16 2024  SRA             1\n",
      "AAACGAACACATATGC-1_1     Mar 04 2024      May 16 2024  SRA             1\n",
      "AAACGAATCATAGCAC-1_1     Mar 04 2024      May 16 2024  SRA             1\n",
      "AAACGAATCGCGGACT-1_1     Mar 04 2024      May 16 2024  SRA             1\n",
      "AAACGCTTCGGCTGAC-1_1     Mar 04 2024      May 16 2024  SRA             1\n",
      "                            source_name_ch1 organism_ch1\n",
      "AAACCCACAAGGCCTC-1_1 sigmoid colon biopsies Homo sapiens\n",
      "AAACCCACAGGACTAG-1_1 sigmoid colon biopsies Homo sapiens\n",
      "AAACGAACACATATGC-1_1 sigmoid colon biopsies Homo sapiens\n",
      "AAACGAATCATAGCAC-1_1 sigmoid colon biopsies Homo sapiens\n",
      "AAACGAATCGCGGACT-1_1 sigmoid colon biopsies Homo sapiens\n",
      "AAACGCTTCGGCTGAC-1_1 sigmoid colon biopsies Homo sapiens\n",
      "                                characteristics_ch1 characteristics_ch1.1\n",
      "AAACCCACAAGGCCTC-1_1 tissue: sigmoid colon biopsies  procedure: colectomy\n",
      "AAACCCACAGGACTAG-1_1 tissue: sigmoid colon biopsies  procedure: colectomy\n",
      "AAACGAACACATATGC-1_1 tissue: sigmoid colon biopsies  procedure: colectomy\n",
      "AAACGAATCATAGCAC-1_1 tissue: sigmoid colon biopsies  procedure: colectomy\n",
      "AAACGAATCGCGGACT-1_1 tissue: sigmoid colon biopsies  procedure: colectomy\n",
      "AAACGCTTCGGCTGAC-1_1 tissue: sigmoid colon biopsies  procedure: colectomy\n",
      "                        molecule_ch1\n",
      "AAACCCACAAGGCCTC-1_1 cytoplasmic RNA\n",
      "AAACCCACAGGACTAG-1_1 cytoplasmic RNA\n",
      "AAACGAACACATATGC-1_1 cytoplasmic RNA\n",
      "AAACGAATCATAGCAC-1_1 cytoplasmic RNA\n",
      "AAACGAATCGCGGACT-1_1 cytoplasmic RNA\n",
      "AAACGCTTCGGCTGAC-1_1 cytoplasmic RNA\n",
      "                                                                                                                                                                                                                                                                                                                                                                                                                                                                                                                                                                                                                                                                                                                                                                                                                                                                                                                                                                                                                                                                                                                                                                                                                                                                                                                                                                              extract_protocol_ch1\n",
      "AAACCCACAAGGCCTC-1_1 Single Cell Sampling and Isolation  Biopsies for single cell processing were obtained from patients at the time of colonoscopy or upon undergoing abdominoperineal resection (completion proctectomy). At endoscopy, ~4 biopsies per region were collected by the physician for further single cell isolation. From proctectomy specimens, 10-20 biopsies per region were collected by the researcher using an endoscopic forceps prior to pathological grossing. To sample the fistula tract, a cross-section was first excised and then transected to expose the tract lining and facilitate biopsy acquisition. From surgical specimens with patent perianal fistulas, cross sections of the tract were resected with the assistance of the pathologist or pathology PA and preserved in O.C.T. Compound (Sakura) by the Mount Sinai Biorepository Core. FFPE specimens were retrieved from clinical samples previously processed and banked by the Biorepository.  Single cell suspensions were prepared from 4-10 biopsies as previously described21. If cell viability was < 70%, dead cells were depleted using the Dead Cell Removal Kit (Miltenyi, cat.no. 130-090-101). Single cells were loaded onto the 10X Chromium Controller at a targeted concentration of 6000 cells/lane, using the Chromium 3’ v3.1 chemistry (PN-1000121), per manufacturer instructions.\n",
      "AAACCCACAGGACTAG-1_1 Single Cell Sampling and Isolation  Biopsies for single cell processing were obtained from patients at the time of colonoscopy or upon undergoing abdominoperineal resection (completion proctectomy). At endoscopy, ~4 biopsies per region were collected by the physician for further single cell isolation. From proctectomy specimens, 10-20 biopsies per region were collected by the researcher using an endoscopic forceps prior to pathological grossing. To sample the fistula tract, a cross-section was first excised and then transected to expose the tract lining and facilitate biopsy acquisition. From surgical specimens with patent perianal fistulas, cross sections of the tract were resected with the assistance of the pathologist or pathology PA and preserved in O.C.T. Compound (Sakura) by the Mount Sinai Biorepository Core. FFPE specimens were retrieved from clinical samples previously processed and banked by the Biorepository.  Single cell suspensions were prepared from 4-10 biopsies as previously described21. If cell viability was < 70%, dead cells were depleted using the Dead Cell Removal Kit (Miltenyi, cat.no. 130-090-101). Single cells were loaded onto the 10X Chromium Controller at a targeted concentration of 6000 cells/lane, using the Chromium 3’ v3.1 chemistry (PN-1000121), per manufacturer instructions.\n",
      "AAACGAACACATATGC-1_1 Single Cell Sampling and Isolation  Biopsies for single cell processing were obtained from patients at the time of colonoscopy or upon undergoing abdominoperineal resection (completion proctectomy). At endoscopy, ~4 biopsies per region were collected by the physician for further single cell isolation. From proctectomy specimens, 10-20 biopsies per region were collected by the researcher using an endoscopic forceps prior to pathological grossing. To sample the fistula tract, a cross-section was first excised and then transected to expose the tract lining and facilitate biopsy acquisition. From surgical specimens with patent perianal fistulas, cross sections of the tract were resected with the assistance of the pathologist or pathology PA and preserved in O.C.T. Compound (Sakura) by the Mount Sinai Biorepository Core. FFPE specimens were retrieved from clinical samples previously processed and banked by the Biorepository.  Single cell suspensions were prepared from 4-10 biopsies as previously described21. If cell viability was < 70%, dead cells were depleted using the Dead Cell Removal Kit (Miltenyi, cat.no. 130-090-101). Single cells were loaded onto the 10X Chromium Controller at a targeted concentration of 6000 cells/lane, using the Chromium 3’ v3.1 chemistry (PN-1000121), per manufacturer instructions.\n",
      "AAACGAATCATAGCAC-1_1 Single Cell Sampling and Isolation  Biopsies for single cell processing were obtained from patients at the time of colonoscopy or upon undergoing abdominoperineal resection (completion proctectomy). At endoscopy, ~4 biopsies per region were collected by the physician for further single cell isolation. From proctectomy specimens, 10-20 biopsies per region were collected by the researcher using an endoscopic forceps prior to pathological grossing. To sample the fistula tract, a cross-section was first excised and then transected to expose the tract lining and facilitate biopsy acquisition. From surgical specimens with patent perianal fistulas, cross sections of the tract were resected with the assistance of the pathologist or pathology PA and preserved in O.C.T. Compound (Sakura) by the Mount Sinai Biorepository Core. FFPE specimens were retrieved from clinical samples previously processed and banked by the Biorepository.  Single cell suspensions were prepared from 4-10 biopsies as previously described21. If cell viability was < 70%, dead cells were depleted using the Dead Cell Removal Kit (Miltenyi, cat.no. 130-090-101). Single cells were loaded onto the 10X Chromium Controller at a targeted concentration of 6000 cells/lane, using the Chromium 3’ v3.1 chemistry (PN-1000121), per manufacturer instructions.\n",
      "AAACGAATCGCGGACT-1_1 Single Cell Sampling and Isolation  Biopsies for single cell processing were obtained from patients at the time of colonoscopy or upon undergoing abdominoperineal resection (completion proctectomy). At endoscopy, ~4 biopsies per region were collected by the physician for further single cell isolation. From proctectomy specimens, 10-20 biopsies per region were collected by the researcher using an endoscopic forceps prior to pathological grossing. To sample the fistula tract, a cross-section was first excised and then transected to expose the tract lining and facilitate biopsy acquisition. From surgical specimens with patent perianal fistulas, cross sections of the tract were resected with the assistance of the pathologist or pathology PA and preserved in O.C.T. Compound (Sakura) by the Mount Sinai Biorepository Core. FFPE specimens were retrieved from clinical samples previously processed and banked by the Biorepository.  Single cell suspensions were prepared from 4-10 biopsies as previously described21. If cell viability was < 70%, dead cells were depleted using the Dead Cell Removal Kit (Miltenyi, cat.no. 130-090-101). Single cells were loaded onto the 10X Chromium Controller at a targeted concentration of 6000 cells/lane, using the Chromium 3’ v3.1 chemistry (PN-1000121), per manufacturer instructions.\n",
      "AAACGCTTCGGCTGAC-1_1 Single Cell Sampling and Isolation  Biopsies for single cell processing were obtained from patients at the time of colonoscopy or upon undergoing abdominoperineal resection (completion proctectomy). At endoscopy, ~4 biopsies per region were collected by the physician for further single cell isolation. From proctectomy specimens, 10-20 biopsies per region were collected by the researcher using an endoscopic forceps prior to pathological grossing. To sample the fistula tract, a cross-section was first excised and then transected to expose the tract lining and facilitate biopsy acquisition. From surgical specimens with patent perianal fistulas, cross sections of the tract were resected with the assistance of the pathologist or pathology PA and preserved in O.C.T. Compound (Sakura) by the Mount Sinai Biorepository Core. FFPE specimens were retrieved from clinical samples previously processed and banked by the Biorepository.  Single cell suspensions were prepared from 4-10 biopsies as previously described21. If cell viability was < 70%, dead cells were depleted using the Dead Cell Removal Kit (Miltenyi, cat.no. 130-090-101). Single cells were loaded onto the 10X Chromium Controller at a targeted concentration of 6000 cells/lane, using the Chromium 3’ v3.1 chemistry (PN-1000121), per manufacturer instructions.\n",
      "                                                                                                                                                                                                                                                             extract_protocol_ch1.1\n",
      "AAACCCACAAGGCCTC-1_1 Cells were loaded on a Chromium Next GEM Chip G Single Cell Kit (PN-1000127) with GEMs from the Chromium Next GEM Single Cell 3’ Kit v3.1 (PN-1000268) and indexed using the Dual Index Kit TT Set A (PN-1000215) according to 10x protocol CG000315 Revs B,C.\n",
      "AAACCCACAGGACTAG-1_1 Cells were loaded on a Chromium Next GEM Chip G Single Cell Kit (PN-1000127) with GEMs from the Chromium Next GEM Single Cell 3’ Kit v3.1 (PN-1000268) and indexed using the Dual Index Kit TT Set A (PN-1000215) according to 10x protocol CG000315 Revs B,C.\n",
      "AAACGAACACATATGC-1_1 Cells were loaded on a Chromium Next GEM Chip G Single Cell Kit (PN-1000127) with GEMs from the Chromium Next GEM Single Cell 3’ Kit v3.1 (PN-1000268) and indexed using the Dual Index Kit TT Set A (PN-1000215) according to 10x protocol CG000315 Revs B,C.\n",
      "AAACGAATCATAGCAC-1_1 Cells were loaded on a Chromium Next GEM Chip G Single Cell Kit (PN-1000127) with GEMs from the Chromium Next GEM Single Cell 3’ Kit v3.1 (PN-1000268) and indexed using the Dual Index Kit TT Set A (PN-1000215) according to 10x protocol CG000315 Revs B,C.\n",
      "AAACGAATCGCGGACT-1_1 Cells were loaded on a Chromium Next GEM Chip G Single Cell Kit (PN-1000127) with GEMs from the Chromium Next GEM Single Cell 3’ Kit v3.1 (PN-1000268) and indexed using the Dual Index Kit TT Set A (PN-1000215) according to 10x protocol CG000315 Revs B,C.\n",
      "AAACGCTTCGGCTGAC-1_1 Cells were loaded on a Chromium Next GEM Chip G Single Cell Kit (PN-1000127) with GEMs from the Chromium Next GEM Single Cell 3’ Kit v3.1 (PN-1000268) and indexed using the Dual Index Kit TT Set A (PN-1000215) according to 10x protocol CG000315 Revs B,C.\n",
      "                     taxid_ch1                              description\n",
      "AAACCCACAAGGCCTC-1_1      9606 extracted 10x GEX modality from TotalSeq\n",
      "AAACCCACAGGACTAG-1_1      9606 extracted 10x GEX modality from TotalSeq\n",
      "AAACGAACACATATGC-1_1      9606 extracted 10x GEX modality from TotalSeq\n",
      "AAACGAATCATAGCAC-1_1      9606 extracted 10x GEX modality from TotalSeq\n",
      "AAACGAATCGCGGACT-1_1      9606 extracted 10x GEX modality from TotalSeq\n",
      "AAACGCTTCGGCTGAC-1_1      9606 extracted 10x GEX modality from TotalSeq\n",
      "                                                                                                                                                                                                                                                                                                                                                                                                                                                                                                                                                                                                                                                                                                                                                                                                                                                                                                                                                                                                         data_processing\n",
      "AAACCCACAAGGCCTC-1_1 Single Cell Process Illumina sequencing products were demultiplexed by the University of Minnesota Genomic Center (UMGC). Prepared FASTQ files were fed into the cellranger count v6.1.1 pipeline for additional QC, alignment, and matrices generation. Filtered matrix outputs were brought into the Seurat wrapper, coreSC, for broad-scope data cleaning and regularization. Gene expression variance stabilization was conducted using the SCTransform v2 function. Normalized GEX outputs were passed to principal component analysis (PCA) and uniform manifold projection (UMAP) for dimensionality reduction and 2-dimensional projection. Individual samples were combined into a single, integrated object and harmonized for batch effects using the Harmony package. Clusters were annotated by parallel data driven and known marker approaches and validated with CellTypist. Clusters classified as myeloid or stromal were subset from the larger Seurat object and sub-clustered.\n",
      "AAACCCACAGGACTAG-1_1 Single Cell Process Illumina sequencing products were demultiplexed by the University of Minnesota Genomic Center (UMGC). Prepared FASTQ files were fed into the cellranger count v6.1.1 pipeline for additional QC, alignment, and matrices generation. Filtered matrix outputs were brought into the Seurat wrapper, coreSC, for broad-scope data cleaning and regularization. Gene expression variance stabilization was conducted using the SCTransform v2 function. Normalized GEX outputs were passed to principal component analysis (PCA) and uniform manifold projection (UMAP) for dimensionality reduction and 2-dimensional projection. Individual samples were combined into a single, integrated object and harmonized for batch effects using the Harmony package. Clusters were annotated by parallel data driven and known marker approaches and validated with CellTypist. Clusters classified as myeloid or stromal were subset from the larger Seurat object and sub-clustered.\n",
      "AAACGAACACATATGC-1_1 Single Cell Process Illumina sequencing products were demultiplexed by the University of Minnesota Genomic Center (UMGC). Prepared FASTQ files were fed into the cellranger count v6.1.1 pipeline for additional QC, alignment, and matrices generation. Filtered matrix outputs were brought into the Seurat wrapper, coreSC, for broad-scope data cleaning and regularization. Gene expression variance stabilization was conducted using the SCTransform v2 function. Normalized GEX outputs were passed to principal component analysis (PCA) and uniform manifold projection (UMAP) for dimensionality reduction and 2-dimensional projection. Individual samples were combined into a single, integrated object and harmonized for batch effects using the Harmony package. Clusters were annotated by parallel data driven and known marker approaches and validated with CellTypist. Clusters classified as myeloid or stromal were subset from the larger Seurat object and sub-clustered.\n",
      "AAACGAATCATAGCAC-1_1 Single Cell Process Illumina sequencing products were demultiplexed by the University of Minnesota Genomic Center (UMGC). Prepared FASTQ files were fed into the cellranger count v6.1.1 pipeline for additional QC, alignment, and matrices generation. Filtered matrix outputs were brought into the Seurat wrapper, coreSC, for broad-scope data cleaning and regularization. Gene expression variance stabilization was conducted using the SCTransform v2 function. Normalized GEX outputs were passed to principal component analysis (PCA) and uniform manifold projection (UMAP) for dimensionality reduction and 2-dimensional projection. Individual samples were combined into a single, integrated object and harmonized for batch effects using the Harmony package. Clusters were annotated by parallel data driven and known marker approaches and validated with CellTypist. Clusters classified as myeloid or stromal were subset from the larger Seurat object and sub-clustered.\n",
      "AAACGAATCGCGGACT-1_1 Single Cell Process Illumina sequencing products were demultiplexed by the University of Minnesota Genomic Center (UMGC). Prepared FASTQ files were fed into the cellranger count v6.1.1 pipeline for additional QC, alignment, and matrices generation. Filtered matrix outputs were brought into the Seurat wrapper, coreSC, for broad-scope data cleaning and regularization. Gene expression variance stabilization was conducted using the SCTransform v2 function. Normalized GEX outputs were passed to principal component analysis (PCA) and uniform manifold projection (UMAP) for dimensionality reduction and 2-dimensional projection. Individual samples were combined into a single, integrated object and harmonized for batch effects using the Harmony package. Clusters were annotated by parallel data driven and known marker approaches and validated with CellTypist. Clusters classified as myeloid or stromal were subset from the larger Seurat object and sub-clustered.\n",
      "AAACGCTTCGGCTGAC-1_1 Single Cell Process Illumina sequencing products were demultiplexed by the University of Minnesota Genomic Center (UMGC). Prepared FASTQ files were fed into the cellranger count v6.1.1 pipeline for additional QC, alignment, and matrices generation. Filtered matrix outputs were brought into the Seurat wrapper, coreSC, for broad-scope data cleaning and regularization. Gene expression variance stabilization was conducted using the SCTransform v2 function. Normalized GEX outputs were passed to principal component analysis (PCA) and uniform manifold projection (UMAP) for dimensionality reduction and 2-dimensional projection. Individual samples were combined into a single, integrated object and harmonized for batch effects using the Harmony package. Clusters were annotated by parallel data driven and known marker approaches and validated with CellTypist. Clusters classified as myeloid or stromal were subset from the larger Seurat object and sub-clustered.\n",
      "                                       data_processing.1\n",
      "AAACCCACAAGGCCTC-1_1 Assembly: refdata-gex-GRCh38-2020-A\n",
      "AAACCCACAGGACTAG-1_1 Assembly: refdata-gex-GRCh38-2020-A\n",
      "AAACGAACACATATGC-1_1 Assembly: refdata-gex-GRCh38-2020-A\n",
      "AAACGAATCATAGCAC-1_1 Assembly: refdata-gex-GRCh38-2020-A\n",
      "AAACGAATCGCGGACT-1_1 Assembly: refdata-gex-GRCh38-2020-A\n",
      "AAACGCTTCGGCTGAC-1_1 Assembly: refdata-gex-GRCh38-2020-A\n",
      "                                                                                        data_processing.2\n",
      "AAACCCACAAGGCCTC-1_1 Supplementary files format and content: MEX compatible cell-associated barcodes list\n",
      "AAACCCACAGGACTAG-1_1 Supplementary files format and content: MEX compatible cell-associated barcodes list\n",
      "AAACGAACACATATGC-1_1 Supplementary files format and content: MEX compatible cell-associated barcodes list\n",
      "AAACGAATCATAGCAC-1_1 Supplementary files format and content: MEX compatible cell-associated barcodes list\n",
      "AAACGAATCGCGGACT-1_1 Supplementary files format and content: MEX compatible cell-associated barcodes list\n",
      "AAACGCTTCGGCTGAC-1_1 Supplementary files format and content: MEX compatible cell-associated barcodes list\n",
      "                                                                            data_processing.3\n",
      "AAACCCACAAGGCCTC-1_1 Supplementary files format and content: MEX compatible gene ID/name list\n",
      "AAACCCACAGGACTAG-1_1 Supplementary files format and content: MEX compatible gene ID/name list\n",
      "AAACGAACACATATGC-1_1 Supplementary files format and content: MEX compatible gene ID/name list\n",
      "AAACGAATCATAGCAC-1_1 Supplementary files format and content: MEX compatible gene ID/name list\n",
      "AAACGAATCGCGGACT-1_1 Supplementary files format and content: MEX compatible gene ID/name list\n",
      "AAACGCTTCGGCTGAC-1_1 Supplementary files format and content: MEX compatible gene ID/name list\n",
      "                                                                                                         data_processing.4\n",
      "AAACCCACAAGGCCTC-1_1 Supplementary files format and content: MEX format feature-barcode associated UMI count sparse matrix\n",
      "AAACCCACAGGACTAG-1_1 Supplementary files format and content: MEX format feature-barcode associated UMI count sparse matrix\n",
      "AAACGAACACATATGC-1_1 Supplementary files format and content: MEX format feature-barcode associated UMI count sparse matrix\n",
      "AAACGAATCATAGCAC-1_1 Supplementary files format and content: MEX format feature-barcode associated UMI count sparse matrix\n",
      "AAACGAATCGCGGACT-1_1 Supplementary files format and content: MEX format feature-barcode associated UMI count sparse matrix\n",
      "AAACGCTTCGGCTGAC-1_1 Supplementary files format and content: MEX format feature-barcode associated UMI count sparse matrix\n",
      "                     platform_id contact_name     contact_email\n",
      "AAACCCACAAGGCCTC-1_1    GPL24676    Judy,,Cho judy.cho@mssm.edu\n",
      "AAACCCACAGGACTAG-1_1    GPL24676    Judy,,Cho judy.cho@mssm.edu\n",
      "AAACGAACACATATGC-1_1    GPL24676    Judy,,Cho judy.cho@mssm.edu\n",
      "AAACGAATCATAGCAC-1_1    GPL24676    Judy,,Cho judy.cho@mssm.edu\n",
      "AAACGAATCGCGGACT-1_1    GPL24676    Judy,,Cho judy.cho@mssm.edu\n",
      "AAACGCTTCGGCTGAC-1_1    GPL24676    Judy,,Cho judy.cho@mssm.edu\n",
      "                     contact_laboratory\n",
      "AAACCCACAAGGCCTC-1_1       Judy Cho Lab\n",
      "AAACCCACAGGACTAG-1_1       Judy Cho Lab\n",
      "AAACGAACACATATGC-1_1       Judy Cho Lab\n",
      "AAACGAATCATAGCAC-1_1       Judy Cho Lab\n",
      "AAACGAATCGCGGACT-1_1       Judy Cho Lab\n",
      "AAACGCTTCGGCTGAC-1_1       Judy Cho Lab\n",
      "                                               contact_department\n",
      "AAACCCACAAGGCCTC-1_1 Pathology, Molecular and Cell-Based Medicine\n",
      "AAACCCACAGGACTAG-1_1 Pathology, Molecular and Cell-Based Medicine\n",
      "AAACGAACACATATGC-1_1 Pathology, Molecular and Cell-Based Medicine\n",
      "AAACGAATCATAGCAC-1_1 Pathology, Molecular and Cell-Based Medicine\n",
      "AAACGAATCGCGGACT-1_1 Pathology, Molecular and Cell-Based Medicine\n",
      "AAACGCTTCGGCTGAC-1_1 Pathology, Molecular and Cell-Based Medicine\n",
      "                                           contact_institute\n",
      "AAACCCACAAGGCCTC-1_1 Icahn School of Medicine at Mount Sinai\n",
      "AAACCCACAGGACTAG-1_1 Icahn School of Medicine at Mount Sinai\n",
      "AAACGAACACATATGC-1_1 Icahn School of Medicine at Mount Sinai\n",
      "AAACGAATCATAGCAC-1_1 Icahn School of Medicine at Mount Sinai\n",
      "AAACGAATCGCGGACT-1_1 Icahn School of Medicine at Mount Sinai\n",
      "AAACGCTTCGGCTGAC-1_1 Icahn School of Medicine at Mount Sinai\n",
      "                                             contact_address contact_city\n",
      "AAACCCACAAGGCCTC-1_1 1470 Madison Avenue, 8th Fl., Box 1498;     New York\n",
      "AAACCCACAGGACTAG-1_1 1470 Madison Avenue, 8th Fl., Box 1498;     New York\n",
      "AAACGAACACATATGC-1_1 1470 Madison Avenue, 8th Fl., Box 1498;     New York\n",
      "AAACGAATCATAGCAC-1_1 1470 Madison Avenue, 8th Fl., Box 1498;     New York\n",
      "AAACGAATCGCGGACT-1_1 1470 Madison Avenue, 8th Fl., Box 1498;     New York\n",
      "AAACGCTTCGGCTGAC-1_1 1470 Madison Avenue, 8th Fl., Box 1498;     New York\n",
      "                     contact_state contact_zip.postal_code contact_country\n",
      "AAACCCACAAGGCCTC-1_1            NY                   10029             USA\n",
      "AAACCCACAGGACTAG-1_1            NY                   10029             USA\n",
      "AAACGAACACATATGC-1_1            NY                   10029             USA\n",
      "AAACGAATCATAGCAC-1_1            NY                   10029             USA\n",
      "AAACGAATCGCGGACT-1_1            NY                   10029             USA\n",
      "AAACGCTTCGGCTGAC-1_1            NY                   10029             USA\n",
      "                     data_row_count      instrument_model library_selection\n",
      "AAACCCACAAGGCCTC-1_1              0 Illumina NovaSeq 6000              cDNA\n",
      "AAACCCACAGGACTAG-1_1              0 Illumina NovaSeq 6000              cDNA\n",
      "AAACGAACACATATGC-1_1              0 Illumina NovaSeq 6000              cDNA\n",
      "AAACGAATCATAGCAC-1_1              0 Illumina NovaSeq 6000              cDNA\n",
      "AAACGAATCGCGGACT-1_1              0 Illumina NovaSeq 6000              cDNA\n",
      "AAACGCTTCGGCTGAC-1_1              0 Illumina NovaSeq 6000              cDNA\n",
      "                                 library_source library_strategy relation\n",
      "AAACCCACAAGGCCTC-1_1 transcriptomic single cell          RNA-Seq         \n",
      "AAACCCACAGGACTAG-1_1 transcriptomic single cell          RNA-Seq         \n",
      "AAACGAACACATATGC-1_1 transcriptomic single cell          RNA-Seq         \n",
      "AAACGAATCATAGCAC-1_1 transcriptomic single cell          RNA-Seq         \n",
      "AAACGAATCGCGGACT-1_1 transcriptomic single cell          RNA-Seq         \n",
      "AAACGCTTCGGCTGAC-1_1 transcriptomic single cell          RNA-Seq         \n",
      "                     relation.1\n",
      "AAACCCACAAGGCCTC-1_1           \n",
      "AAACCCACAGGACTAG-1_1           \n",
      "AAACGAACACATATGC-1_1           \n",
      "AAACGAATCATAGCAC-1_1           \n",
      "AAACGAATCGCGGACT-1_1           \n",
      "AAACGCTTCGGCTGAC-1_1           \n",
      "                                                                                            supplementary_file_1\n",
      "AAACCCACAAGGCCTC-1_1 ftp://ftp.ncbi.nlm.nih.gov/geo/samples/GSM8125nnn/GSM8125209/suppl/GSM8125209_AA1inf.tar.gz\n",
      "AAACCCACAGGACTAG-1_1 ftp://ftp.ncbi.nlm.nih.gov/geo/samples/GSM8125nnn/GSM8125209/suppl/GSM8125209_AA1inf.tar.gz\n",
      "AAACGAACACATATGC-1_1 ftp://ftp.ncbi.nlm.nih.gov/geo/samples/GSM8125nnn/GSM8125209/suppl/GSM8125209_AA1inf.tar.gz\n",
      "AAACGAATCATAGCAC-1_1 ftp://ftp.ncbi.nlm.nih.gov/geo/samples/GSM8125nnn/GSM8125209/suppl/GSM8125209_AA1inf.tar.gz\n",
      "AAACGAATCGCGGACT-1_1 ftp://ftp.ncbi.nlm.nih.gov/geo/samples/GSM8125nnn/GSM8125209/suppl/GSM8125209_AA1inf.tar.gz\n",
      "AAACGCTTCGGCTGAC-1_1 ftp://ftp.ncbi.nlm.nih.gov/geo/samples/GSM8125nnn/GSM8125209/suppl/GSM8125209_AA1inf.tar.gz\n",
      "                     procedure.ch1             tissue.ch1 percent.mt nCount_SCT\n",
      "AAACCCACAAGGCCTC-1_1     colectomy sigmoid colon biopsies  2.3723940       9007\n",
      "AAACCCACAGGACTAG-1_1     colectomy sigmoid colon biopsies  0.9342908       9017\n",
      "AAACGAACACATATGC-1_1     colectomy sigmoid colon biopsies  0.9480606       9503\n",
      "AAACGAATCATAGCAC-1_1     colectomy sigmoid colon biopsies  1.6189402       8962\n",
      "AAACGAATCGCGGACT-1_1     colectomy sigmoid colon biopsies  1.0524624       9023\n",
      "AAACGCTTCGGCTGAC-1_1     colectomy sigmoid colon biopsies  0.5030497       9264\n",
      "                     nFeature_SCT SCT_snn_res.0.5 seurat_clusters\n",
      "AAACCCACAAGGCCTC-1_1          997              23              23\n",
      "AAACCCACAGGACTAG-1_1          570              35              35\n",
      "AAACGAACACATATGC-1_1         1209              35              35\n",
      "AAACGAATCATAGCAC-1_1          787              35              35\n",
      "AAACGAATCGCGGACT-1_1          581              35              35\n",
      "AAACGCTTCGGCTGAC-1_1         1081              23              23\n",
      "                     blueprint.main  monaco.fine\n",
      "AAACCCACAAGGCCTC-1_1        B-cells Plasmablasts\n",
      "AAACCCACAGGACTAG-1_1        B-cells Plasmablasts\n",
      "AAACGAACACATATGC-1_1        B-cells Plasmablasts\n",
      "AAACGAATCATAGCAC-1_1        B-cells Plasmablasts\n",
      "AAACGAATCGCGGACT-1_1        B-cells Plasmablasts\n",
      "AAACGCTTCGGCTGAC-1_1        B-cells Plasmablasts\n"
     ]
    }
   ],
   "source": [
    "print(head(obj@meta.data))"
   ]
  },
  {
   "cell_type": "code",
   "execution_count": 51,
   "metadata": {
    "vscode": {
     "languageId": "r"
    }
   },
   "outputs": [
    {
     "data": {
      "text/plain": [
       "\n",
       "   Central memory CD8 T cells           Classical monocytes \n",
       "                          878                          1330 \n",
       "  Effector memory CD8 T cells             Exhausted B cells \n",
       "                         2977                          4893 \n",
       "    Follicular helper T cells        Intermediate monocytes \n",
       "                         2789                          2541 \n",
       "        Low-density basophils       Low-density neutrophils \n",
       "                          132                            11 \n",
       "                   MAIT cells       Myeloid dendritic cells \n",
       "                         3665                          2409 \n",
       "                Naive B cells             Naive CD4 T cells \n",
       "                         6170                           384 \n",
       "            Naive CD8 T cells          Natural killer cells \n",
       "                          198                          1646 \n",
       "      Non classical monocytes   Non-switched memory B cells \n",
       "                           11                          3300 \n",
       "           Non-Vd2 gd T cells                  Plasmablasts \n",
       "                         1350                         38346 \n",
       " Plasmacytoid dendritic cells              Progenitor cells \n",
       "                          157                           241 \n",
       "      Switched memory B cells            T regulatory cells \n",
       "                         4994                          6896 \n",
       "Terminal effector CD4 T cells Terminal effector CD8 T cells \n",
       "                           60                           595 \n",
       "                    Th1 cells                Th1/Th17 cells \n",
       "                         1152                          4190 \n",
       "                   Th17 cells                     Th2 cells \n",
       "                         2843                           597 \n",
       "               Vd2 gd T cells \n",
       "                         2906 "
      ]
     },
     "metadata": {},
     "output_type": "display_data"
    }
   ],
   "source": [
    "table(obj@meta.data$monaco.fine)"
   ]
  },
  {
   "cell_type": "code",
   "execution_count": 50,
   "metadata": {
    "vscode": {
     "languageId": "r"
    }
   },
   "outputs": [],
   "source": [
    "sce <- LayerData(obj)\n",
    "monaco.fine <- SingleR(test = sce, assay.type.test = 1, ref = monaco.ref, labels = monaco.ref$label.fine)\n",
    "obj@meta.data$monaco.fine <- monaco.fine$pruned.labels\n",
    "save(obj, file=file.path('objects', '05.rda'))"
   ]
  },
  {
   "cell_type": "code",
   "execution_count": 71,
   "metadata": {
    "vscode": {
     "languageId": "r"
    }
   },
   "outputs": [],
   "source": [
    "# Clean up columns\n",
    "obj@meta.data$Condition <- str_remove(obj@meta.data$tissue.ch1, \" biopsies\")\n",
    "obj@meta.data$Procedure <- obj@meta.data$procedure.ch1\n",
    "\n",
    "# Select needed columns\n",
    "columns_to_keep <-  c(\"orig.ident\", \"Condition\", \"Procedure\", \"blueprint.main\", \"monaco.fine\")\n",
    "obj@meta.data <- obj@meta.data[, columns_to_keep, drop = FALSE]\n",
    "\n",
    "save(obj, file=file.path('objects', '06.rda'))"
   ]
  },
  {
   "cell_type": "code",
   "execution_count": 72,
   "metadata": {
    "vscode": {
     "languageId": "r"
    }
   },
   "outputs": [],
   "source": [
    "seu =  obj\n",
    "scConf = createConfig(seu)\n",
    "makeShinyApp(seu, scConf,\n",
    "             gene.mapping = TRUE,\n",
    "             shiny.title = \"Mechanisms of perianal fistula in Crohns scRNAseq\",\n",
    "             shiny.dir = \"perianal_fistula_crohns_scRNA-seq_GSE260842/\",\n",
    "             gex.assay = \"SCT\",\n",
    "             default.multigene = c('LILRB1', 'PDCD1')) \n",
    "system(\"R -e \\\"shiny::runApp('perianal_fistula_crohns_scRNA-seq_GSE260842')\\\"\")"
   ]
  },
  {
   "cell_type": "code",
   "execution_count": null,
   "metadata": {
    "vscode": {
     "languageId": "r"
    }
   },
   "outputs": [],
   "source": [
    "system(\"R -e \\\"shiny::runApp('perianal_fistula_crohns_scRNA-seq_GSE260842')\\\"\")"
   ]
  }
 ],
 "metadata": {
  "kernelspec": {
   "display_name": "R",
   "language": "R",
   "name": "ir"
  },
  "language_info": {
   "codemirror_mode": "r",
   "file_extension": ".r",
   "mimetype": "text/x-r-source",
   "name": "R",
   "pygments_lexer": "r",
   "version": "4.3.3"
  }
 },
 "nbformat": 4,
 "nbformat_minor": 2
}

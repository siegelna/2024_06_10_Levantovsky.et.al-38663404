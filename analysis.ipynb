{
 "cells": [
  {
   "cell_type": "code",
   "execution_count": null,
   "metadata": {
    "vscode": {
     "languageId": "r"
    }
   },
   "outputs": [],
   "source": [
    "suppressPackageStartupMessages({\n",
    "    library(Seurat)\n",
    "    library(patchwork)\n",
    "    library(celldex)\n",
    "    library(SingleR)\n",
    "    library(ShinyCell)\n",
    "    library(harmony)\n",
    "    library(glmGamPoi)\n",
    "    library(stringr)\n",
    "    })"
   ]
  },
  {
   "cell_type": "code",
   "execution_count": 3,
   "metadata": {
    "vscode": {
     "languageId": "r"
    }
   },
   "outputs": [],
   "source": [
    "setwd(\"/data/nsiegel/projects/2024_06_10_Levantovsky.et.al-38663404\")"
   ]
  },
  {
   "cell_type": "code",
   "execution_count": null,
   "metadata": {
    "vscode": {
     "languageId": "r"
    }
   },
   "outputs": [],
   "source": [
    "source(\"/data/nsiegel/projects/scTools/R/process.geo.data.r\")"
   ]
  },
  {
   "cell_type": "code",
   "execution_count": null,
   "metadata": {
    "vscode": {
     "languageId": "r"
    }
   },
   "outputs": [],
   "source": [
    "library(tools)\n",
    "\n",
    "# Directory containing the tarball files\n",
    "tar_dir <- \"GSE260842\"\n",
    "\n",
    "# Get list of tarball files\n",
    "tar_files <- list.files(path = tar_dir, pattern = \"\\\\.tar\\\\.gz$\", full.names = TRUE)\n",
    "\n",
    "# Loop over each tarball file\n",
    "for (tarball_file in tar_files) {\n",
    "  # Create output directory name without \".tar.gz\" extension\n",
    "  output_dir <- file_path_sans_ext(basename(tarball_file))\n",
    "  output_dir <- gsub(\"\\\\.tar$\", \"\", output_dir)\n",
    "  \n",
    "  # Create the directory if it doesn't exist\n",
    "  if (!file.exists(output_dir)) {\n",
    "    dir.create(output_dir)\n",
    "  }\n",
    "  \n",
    "  # Extract all files from the tarball into the output directory\n",
    "  untar(tarball_file, exdir = output_dir)\n",
    "}"
   ]
  },
  {
   "cell_type": "code",
   "execution_count": 9,
   "metadata": {
    "vscode": {
     "languageId": "r"
    }
   },
   "outputs": [],
   "source": [
    "library(tools)\n",
    "\n",
    "# Directory containing the tarball files\n",
    "tar_dir <- \"GSE260842\"\n",
    "\n",
    "# Get list of tarball files\n",
    "tar_files <- list.files(path = tar_dir, pattern = \"\\\\.tar\\\\.gz$\", full.names = TRUE)\n",
    "\n",
    "# Loop over each tarball file\n",
    "for (tarball_file in tar_files) {\n",
    "  # Create output directory name without \".tar.gz\" extension\n",
    "  output_dir <- file_path_sans_ext(basename(tarball_file))\n",
    "  output_dir <- gsub(\"\\\\.tar$\", \"\", output_dir)\n",
    "  \n",
    "  # Extract all files from the tarball into the output directory\n",
    "  untar(tarball_file, exdir = output_dir)\n",
    "  \n",
    "  # Get list of files in the output directory\n",
    "  files <- list.files(path = output_dir, full.names = TRUE, recursive = TRUE)\n",
    "  \n",
    "  # Loop over each file and append directory name to the file name\n",
    "  for (file in files) {\n",
    "    # Extract the directory name\n",
    "    directory_name <- basename(output_dir)\n",
    "    \n",
    "    # Extract the file name\n",
    "    file_name <- basename(file)\n",
    "    \n",
    "    # Rename the file by appending directory name\n",
    "    directory_prefix <- sub(\"^(.*?)_.*\", \"\\\\1\", directory_name)\n",
    "    new_file_name <- paste(directory_prefix, file_name, sep = \"_\")\n",
    "    \n",
    "    # Move the renamed file to the tar_dir\n",
    "    file.rename(file, file.path(tar_dir, new_file_name))\n",
    "  }\n",
    "  \n",
    "  # Delete the now-empty output directory\n",
    "  unlink(output_dir, recursive = TRUE)\n",
    "}\n",
    "\n"
   ]
  }
 ],
 "metadata": {
  "kernelspec": {
   "display_name": "R",
   "language": "R",
   "name": "ir"
  },
  "language_info": {
   "codemirror_mode": "r",
   "file_extension": ".r",
   "mimetype": "text/x-r-source",
   "name": "R",
   "pygments_lexer": "r",
   "version": "4.3.3"
  }
 },
 "nbformat": 4,
 "nbformat_minor": 2
}
